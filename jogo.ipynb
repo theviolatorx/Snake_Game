{
 "cells": [
  {
   "cell_type": "code",
   "execution_count": 10,
   "metadata": {},
   "outputs": [],
   "source": [
    "import pygame\n",
    "from pygame.locals import *\n",
    "from sys import exit\n",
    "from random import randint"
   ]
  },
  {
   "cell_type": "code",
   "execution_count": 17,
   "metadata": {},
   "outputs": [],
   "source": [
    "pygame.init()\n",
    "\n",
    "# Define Música de fundo\n",
    "vol_music = 0.1\n",
    "pygame.mixer.music.set_volume(vol_music)\n",
    "music = pygame.mixer.music.load('./sounds/BoxCat_Games_CPU_Talk.mp3')\n",
    "pygame.mixer.music.play(-1) # -1 a música toca repetidamente\n",
    "\n",
    "# Som para colisão\n",
    "# Só pode ser arquivos .wav\n",
    "sound_music = 1\n",
    "sound_colision = pygame.mixer.Sound('./sounds/smw_coin.wav')\n",
    "sound_colision.set_volume(sound_music)\n",
    "\n",
    "width = 640\n",
    "heigth = 480\n",
    "x_cobra = (width // 2) - 40\n",
    "y_cobra = (heigth // 2) - 40\n",
    "x_maca = randint(0, 600)\n",
    "y_maca = randint(0, 440)\n",
    "BE, BD, BS, BI = 0, 600, 0, 440\n",
    "font = pygame.font.SysFont('consolas',40,True,True)\n",
    "points = 0\n",
    "\n",
    "lista_cobra = []\n"
   ]
  },
  {
   "cell_type": "code",
   "execution_count": 18,
   "metadata": {},
   "outputs": [],
   "source": [
    "def aumenta_cobra(lista_cobra, tela):\n",
    "    for XeY in lista_cobra:\n",
    "        pygame.draw.rect(tela, (0, 255, 0), (XeY[0], XeY[1], 20, 20))"
   ]
  },
  {
   "cell_type": "code",
   "execution_count": 19,
   "metadata": {},
   "outputs": [
    {
     "ename": "SystemExit",
     "evalue": "",
     "output_type": "error",
     "traceback": [
      "An exception has occurred, use %tb to see the full traceback.\n",
      "\u001b[1;31mSystemExit\u001b[0m\n"
     ]
    }
   ],
   "source": [
    "tela = pygame.display.set_mode((width, heigth))\n",
    "pygame.display.set_caption('Jogo da Cobrinh')\n",
    "relogio = pygame.time.Clock()\n",
    "while True:\n",
    "    mensagem = f'Pontos: {points}'\n",
    "    text_format = font.render(mensagem, True, (0, 0, 0))\n",
    "    # Frames do jogo\n",
    "    relogio.tick(60)\n",
    "    # Cor de fundo da tela\n",
    "    tela.fill((255, 255, 255))\n",
    "    for event in pygame.event.get():\n",
    "        # Clicou no botão fechar\n",
    "        if event.type == QUIT:\n",
    "            pygame.quit()\n",
    "            exit()\n",
    "\n",
    "\n",
    "        # Verificação de tecla pressionada\n",
    "        if event.type == KEYDOWN:\n",
    "            if event.key == K_KP_PLUS:\n",
    "                vol_music += 0.1\n",
    "                if vol_music >= 1:\n",
    "                    vol_music = 1\n",
    "            if event.key == K_KP_MINUS:\n",
    "                vol_music -= 0.1\n",
    "                if vol_music <= 0:\n",
    "                    vol_music = 0\n",
    "            if event.key == K_KP_ENTER:\n",
    "                if sound_music == 0:\n",
    "                    sound_music = 1\n",
    "                else:\n",
    "                    sound_music = 0\n",
    "                print(sound_music)\n",
    "            \n",
    "        pygame.mixer.music.set_volume(vol_music)\n",
    "        sound_colision.set_volume(sound_music)\n",
    "        \n",
    "    # Verificação da tecla mantida pressionada\n",
    "    if pygame.key.get_pressed()[K_a]:\n",
    "        x_cobra -=5\n",
    "    if pygame.key.get_pressed()[K_d]:\n",
    "        x_cobra +=5\n",
    "    if pygame.key.get_pressed()[K_w]:\n",
    "        y_cobra -=5\n",
    "    if pygame.key.get_pressed()[K_s]:\n",
    "        y_cobra +=5\n",
    "    if x_cobra <= BE:\n",
    "        x_cobra = BE\n",
    "    elif x_cobra >= BD:\n",
    "        x_cobra = BD\n",
    "    if y_cobra <= BS:\n",
    "        y_cobra = BS\n",
    "    elif y_cobra >= BI:\n",
    "        y_cobra = BI\n",
    "\n",
    "    \n",
    "\n",
    "    # pygame.draw.line(tela, (255, 255, 0), (390, 0),(390, 600), 5)\n",
    "    # pygame.draw.circle(tela, (0, 0, 120), (300, 260), 40)\n",
    "    \n",
    "    cobra = pygame.draw.rect(tela, (0, 255, 0), (x_cobra, y_cobra, 20, 20))\n",
    "    maca = pygame.draw.rect(tela, (255, 0, 0), (x_maca, y_maca, 20, 20))\n",
    "    \n",
    "    # Checa a colisão dos objetos\n",
    "    if cobra.colliderect(maca):\n",
    "        x_maca = randint(40, 600)\n",
    "        y_maca = randint(50, 430)\n",
    "        points += 1\n",
    "        sound_colision.play()\n",
    "        lista_cobra.append(lista_cabeca)\n",
    "    \n",
    "    lista_cabeca = []\n",
    "    lista_cabeca.append(x_cobra)\n",
    "    lista_cabeca.append(y_cobra)\n",
    "\n",
    "    \n",
    "    \n",
    "\n",
    "    aumenta_cobra(lista_cobra, tela)\n",
    "    \n",
    "    tela.blit(text_format, (410, 40))\n",
    "    pygame.display.update()"
   ]
  },
  {
   "cell_type": "code",
   "execution_count": null,
   "metadata": {},
   "outputs": [],
   "source": [
    "# Listas as fontes:\n",
    "pygame.font.get_fonts()"
   ]
  }
 ],
 "metadata": {
  "kernelspec": {
   "display_name": "Python 3",
   "language": "python",
   "name": "python3"
  },
  "language_info": {
   "codemirror_mode": {
    "name": "ipython",
    "version": 3
   },
   "file_extension": ".py",
   "mimetype": "text/x-python",
   "name": "python",
   "nbconvert_exporter": "python",
   "pygments_lexer": "ipython3",
   "version": "3.11.3"
  },
  "orig_nbformat": 4
 },
 "nbformat": 4,
 "nbformat_minor": 2
}
